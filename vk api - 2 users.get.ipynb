{
 "cells": [
  {
   "cell_type": "markdown",
   "metadata": {},
   "source": [
    "## Получить основную информацию о пользователе по ID\n",
    "Для решения этой задачи нам потребуется использоваться метод **https://vk.com/dev/users.get**. Он возвращает расширенную информацию о пользователях.\n",
    "\n",
    "* Если передать только id, то ВК вернёт только основную информацию\n",
    "* Если будет заполнено поле fields, то указывая нужно поле, будет возвращена дополнительная информация\n",
    "К основной инфорамции пользователя ВКонтакте относится:\n",
    "\n",
    "* ID пользователя\n",
    "* Имя\n",
    "* Фамилия\n",
    "\n",
    "**Для начала установим библиотеку vk_api**"
   ]
  },
  {
   "cell_type": "code",
   "execution_count": 2,
   "metadata": {
    "scrolled": true
   },
   "outputs": [],
   "source": [
    "pip install vk_api"
   ]
  },
  {
   "cell_type": "markdown",
   "metadata": {},
   "source": [
    "**Проверим установку библиотеки и запостим у себя на странице \"Hello world\"**"
   ]
  },
  {
   "cell_type": "code",
   "execution_count": 3,
   "metadata": {},
   "outputs": [
    {
     "name": "stdout",
     "output_type": "stream",
     "text": [
      "{'post_id': 7}\n"
     ]
    }
   ],
   "source": [
    "import vk_api\n",
    "\n",
    "vk_session = vk_api.VkApi('+79522874463', 'b33r4sxj@!90')\n",
    "vk_session.auth()\n",
    "\n",
    "vk = vk_session.get_api()\n",
    "\n",
    "print(vk.wall.post(message='Hello world!'))"
   ]
  },
  {
   "cell_type": "markdown",
   "metadata": {},
   "source": [
    "users.get принимает параметры: **user_ids** (ID пользователей, через запятую и не более 1000) или короткие имена - screen_name. **fields** - список дополнительных полей профиля через запятую. **name_case** - падеж для склонения имени и фамилии, по умолчанию nom"
   ]
  },
  {
   "cell_type": "markdown",
   "metadata": {},
   "source": [
    "**Получим token**"
   ]
  },
  {
   "cell_type": "markdown",
   "metadata": {},
   "source": [
    "Для работы с методом нужно получить **access_token**\n",
    "https://vk.com/dev/implicit_flow_user\n",
    "В браузере нужно перейти по адресу и передать следующие параметры:\n",
    "https://oauth.vk.com/authorize?client_id=6952083&display=page&redirect_uri=http://localhost&scope=wall,offline&response_type=token&v=5.95\n",
    "\n",
    "client_id=id приложения\n",
    "display=page, форма авторизации в отдельном окне\n",
    "redirect_uri=http://localhost\n",
    "scope=wall,offline метод работы со стеной и доступ к api в любое время\n",
    "response_type=token, тип ответа, который нужно получить\n",
    "v=5.95 актуальная версия api\n",
    "\n",
    "Получим ответ:\n",
    "http://localhost/#access_token=f19c56cc59de71fe884aa6b08cf6680d9c75f2d323d5480cf76b1f0dc9d0aac21e8465ef46ccccbc8ec0f&expires_in=0&user_id=414807758\n",
    "\n",
    "где:\n",
    "access_token - наш токен\n",
    "expires_in=0 - время изни токена бессрочное\n",
    "user_id - ID пользователя"
   ]
  },
  {
   "cell_type": "markdown",
   "metadata": {},
   "source": [
    "**Авторизация и получение информации**"
   ]
  },
  {
   "cell_type": "code",
   "execution_count": 13,
   "metadata": {
    "collapsed": true
   },
   "outputs": [
    {
     "data": {
      "text/plain": [
       "{'response': [{'id': 414807758,\n",
       "   'first_name': 'Разрыв',\n",
       "   'last_name': 'Шаблонов',\n",
       "   'is_closed': False,\n",
       "   'can_access_closed': True,\n",
       "   'online': 0,\n",
       "   'last_seen': {'time': 1560435592, 'platform': 7},\n",
       "   'followers_count': 3,\n",
       "   'relation': 0}]}"
      ]
     },
     "execution_count": 13,
     "metadata": {},
     "output_type": "execute_result"
    }
   ],
   "source": [
    "import requests\n",
    "import vk_api\n",
    "access_token = 'f19c56cc59de71fe884aa6b08cf6680d9c75f2d323d5480cf76b1f0dc9d0aac21e8465ef46ccccbc8ec0f'\n",
    "r = requests.get('https://api.vk.com/method/users.get',\n",
    "                 params={'user_ids': 414807758,\n",
    "                        'fields':'sex,bdate,city,country',\n",
    "                         'fields':'followers_count,relation,online,last_seen',\n",
    "                         'v':'5.95',\n",
    "                         'access_token':access_token\n",
    "                         })\n",
    "r.json()"
   ]
  },
  {
   "cell_type": "markdown",
   "metadata": {},
   "source": [
    "**Получить информацию о своем профиле, а так же получить сумму подписчиков и друзей.**\n",
    "* пол, sex\n",
    "* год рождения, bdate\n",
    "* город, city\n",
    "* родной город, home_town\n",
    "* количество друзей, counters:friends \n",
    "* количество подписчиков counters:followers "
   ]
  },
  {
   "cell_type": "code",
   "execution_count": 35,
   "metadata": {},
   "outputs": [
    {
     "name": "stdout",
     "output_type": "stream",
     "text": [
      "Пол = 2\n",
      "Город - Санкт-Петербург\n",
      "Родной город - Санкт-Петербург\n",
      "Кол-во друзей и подписчиков = 1301\n"
     ]
    }
   ],
   "source": [
    "import requests\n",
    "import vk_api\n",
    "access_token = 'f19c56cc59de71fe884aa6b08cf6680d9c75f2d323d5480cf76b1f0dc9d0aac21e8465ef46ccccbc8ec0f'\n",
    "r = requests.get('https://api.vk.com/method/users.get',\n",
    "                 params={'user_ids': 374460,\n",
    "                        'fields':'sex,bdate,city,home_town,counters',\n",
    "                         'v':'5.95',\n",
    "                         'access_token':access_token\n",
    "                         })\n",
    "response = r.json()\n",
    "sex = response['response'][0]['sex']\n",
    "#bdate = response['response'][0]['bdate']\n",
    "city = response['response'][0]['city']['title']\n",
    "home = response['response'][0]['home_town']\n",
    "friends = response['response'][0]['counters']['friends'] #друзья\n",
    "followers = response['response'][0]['counters']['followers'] #подписчики\n",
    "print('Пол =',sex)\n",
    "print('Город -',city)\n",
    "print('Родной город -',home)\n",
    "print('Кол-во друзей и подписчиков =',friends+followers)"
   ]
  },
  {
   "cell_type": "code",
   "execution_count": null,
   "metadata": {},
   "outputs": [],
   "source": []
  }
 ],
 "metadata": {
  "kernelspec": {
   "display_name": "Python 3",
   "language": "python",
   "name": "python3"
  },
  "language_info": {
   "codemirror_mode": {
    "name": "ipython",
    "version": 3
   },
   "file_extension": ".py",
   "mimetype": "text/x-python",
   "name": "python",
   "nbconvert_exporter": "python",
   "pygments_lexer": "ipython3",
   "version": "3.7.3"
  }
 },
 "nbformat": 4,
 "nbformat_minor": 2
}
