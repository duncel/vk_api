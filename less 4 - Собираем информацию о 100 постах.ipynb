{
 "cells": [
  {
   "cell_type": "markdown",
   "metadata": {},
   "source": [
    "## Собираем информацию о 100 постах в сообществе ВК"
   ]
  },
  {
   "cell_type": "markdown",
   "metadata": {},
   "source": [
    "**Материал для изучения:**\n",
    "\n",
    "* Модуль - http://pythonworld.ru/moduli/modul-time.html\n",
    "* Модуль - http://pythonworld.ru/moduli/modul-datetime.html\n",
    "* Обязательно к ознакомлению - https://vk.com/dev/objects/post\n",
    "\n",
    "Описание методов **wall** - https://vk.com/dev/wall\n",
    "Для задачи нам нужен  **wall.get** - https://vk.com/dev/wall.get. Этот метод возвращает список записей со стены пользователя или сообщества. Действует ограничение - 5000 вызвов/сутки. За один запрос можно получить **100** постов.\n",
    "\n",
    "Параметр | Описание | Тип данных\n",
    "--- | --- | ---\n",
    "owner_id | Идентификатор пользователя или сообщества, со стены которого необходимо получить записи (по умолчанию — текущий пользователь).*Обратите внимание, идентификатор сообщества в параметре owner_id необходимо указывать со знаком \"-\" — например, owner_id=-1 соответствует идентификатору сообщества ВКонтакте API (club1)* | целое число`\n",
    "domain | Короткий адрес пользователя или сообщества. | строка\n",
    "offset | смещение, необходимое для выборки определенного подмножества записей.  | положительное число\n",
    "count | количество записей, которое необходимо получить (**но не более 100**). | положительное число\n",
    "filter | определяет, какие типы записей на стене необходимо получить. Возможны следующие значения параметра: <br>suggests — предложенные записи на стене сообщества (доступно только при вызове с передачей **access_token**);<br>postponed — отложенные записи (доступно только при вызове с передачей access_token);<br>owner — записи на стене от ее владельца;<br>others — записи на стене не от ее владельца;all — все записи на стене (owner + others).<br> * Если параметр не задан, то считается, что он равен all*  | строка\n",
    "extended | 1 — будут возвращены три массива **wall**, **profiles** и **groups**. По умолчанию дополнительные поля не возвращаются.  | флаг, может принимать значения 1 или 0\n",
    "fields | список дополнительных полей для профилей и групп, которые необходимо вернуть. См. описание полей объекта user и описание полей объекта group - https://vk.com/dev/fields_groups . Обратите внимание, этот параметр учитывается только при extended=1.  | строка. список слов, разделенных через запятую\n",
    "\n",
    "**Результат**\n",
    "После успешного выполнения возвращает список объектов записей на стене. \n",
    "\n",
    "Если был задан параметр **extended=1**, возвращает отдельно списки объектов записей на стене в поле **items**, пользователей с дополнительными полями **photo** и **online** в поле **profiles**, и сообществ в поле groups.\n"
   ]
  },
  {
   "cell_type": "markdown",
   "metadata": {},
   "source": [
    "**Теория**\n",
    "\n",
    "Для того, чтобы вытащить нужные нам данные, нужно научиться доставать их из **Словарей** и **Списков**.\n",
    "\n",
    "**Список**\n",
    "Обращение к объекту списка по его индексу - http://pythonworld.ru/osnovy/indeksy-i-srezy.html\n",
    "\n",
    "Пример для понимания:"
   ]
  },
  {
   "cell_type": "code",
   "execution_count": 3,
   "metadata": {
    "collapsed": true
   },
   "outputs": [
    {
     "name": "stdout",
     "output_type": "stream",
     "text": [
      "Василий\n",
      "Василий работает в smmplanner\n"
     ]
    }
   ],
   "source": [
    "list= ['Сергей','Василий', 'smmplanner'] #списки всегда в квадратных скобках, а строки в кавычках\n",
    "#Чтобы достать из списка Василия нужно обратиться к 1 элементу списка. Порядок элементов в списке начинается с нуля \"0\"\n",
    "print(list[1]) #Выведит на экран Василий\n",
    "print(list[1],'работает в',list[2]) #Выведит на экран Василий работает в smmplanner"
   ]
  },
  {
   "cell_type": "markdown",
   "metadata": {},
   "source": [
    "**Словарь**\n",
    "Словарь в Pythone - неупорядоченные коллекции произвольных объектов с доступом по ключу. \n",
    "Подробнее о Словарях - http://pythonworld.ru/tipy-dannyx-v-python/slovari-dict-funkcii-i-metody-slovarej.html\n",
    "\n",
    "Пример для понимания:\n",
    "**Задача про склад с мороженным**\n",
    "У нас есть 2 вида мороженного: Пломбир и Эскимо. Продаются они с разной ценой и в разной валюте. Нужно вывести на экран Тип мороженного, цену, валюту и остаток на складе . Для Эскимо посчитать стоимость остатка на складе по курсу доллара 1$ = 65 руб"
   ]
  },
  {
   "cell_type": "code",
   "execution_count": 8,
   "metadata": {
    "collapsed": true
   },
   "outputs": [
    {
     "name": "stdout",
     "output_type": "stream",
     "text": [
      "[{'Тип': 'Пломбир', 'Цена': 256, 'Валюта': 'руб.', 'Склад': 10}, {'Тип': 'Эскимо', 'Цена': 221, 'Склад': 5, 'Валюта': '$'}]\n"
     ]
    }
   ],
   "source": [
    "dict = {'Мороженное':[{'Тип':'Пломбир', 'Цена':256, 'Валюта':'руб.', 'Склад':10},\n",
    "                      {'Тип':'Эскимо', 'Цена':221, 'Склад':5, 'Валюта':'$'}]}\n",
    "print(dict['Мороженное']) #обращение по ключу Словаря\n",
    "#При обращении по этому ключу мы попадаем в список, внутри которого 2 списка, внутри которых Словари :)))\n",
    "#Теперь можно обратиться по индексу, чтобы получить информацию из первого[0] или второго списка[1]"
   ]
  },
  {
   "cell_type": "markdown",
   "metadata": {},
   "source": [
    "Попробуем достать нужные нам элементы по их индексу или ключу:"
   ]
  },
  {
   "cell_type": "code",
   "execution_count": 11,
   "metadata": {
    "collapsed": true
   },
   "outputs": [
    {
     "name": "stdout",
     "output_type": "stream",
     "text": [
      "Информация о пломбире {'Тип': 'Пломбир', 'Цена': 256, 'Валюта': 'руб.', 'Склад': 10}\n",
      "Информация об эскимо {'Тип': 'Эскимо', 'Цена': 221, 'Склад': 5, 'Валюта': '$'}\n",
      "Тип мороженного: Пломбир\n",
      "Тип мороженного: Эскимо\n",
      "Цена: 256\n",
      "Цена: 221\n",
      "Валюта: руб.\n",
      "Валюта: $\n"
     ]
    }
   ],
   "source": [
    "print('Информация о пломбире', dict['Мороженное'][0])\n",
    "print('Информация об эскимо', dict['Мороженное'][1])\n",
    "\n",
    "print('Тип мороженного:', dict['Мороженное'][0]['Тип'])\n",
    "print('Тип мороженного:', dict['Мороженное'][1]['Тип'])\n",
    "\n",
    "print('Цена:', dict['Мороженное'][0]['Цена'])\n",
    "print('Цена:', dict['Мороженное'][1]['Цена'])\n",
    "\n",
    "print('Валюта:', dict['Мороженное'][0]['Валюта'])\n",
    "print('Валюта:', dict['Мороженное'][1]['Валюта'])"
   ]
  },
  {
   "cell_type": "markdown",
   "metadata": {},
   "source": [
    "**Циклы в Python**\n",
    "Теперь представим, что у нас на складе много всяких типов мороженного с разными ценами и с разным количеством на складе. Но мы не знаем, что у нас 2 типа мороженного.\n",
    "\n",
    "Для того, чтобы нам не пришлось писать столько принтов, мы используем уже знакомый цикл **for**, которы будет проходить по списку значений, которые генерирует функция **range**. \n",
    "Информация для изучения - http://informatics.mccme.ru/mod/book/view.php?id=2534&chapterid=360"
   ]
  },
  {
   "cell_type": "code",
   "execution_count": 12,
   "metadata": {
    "collapsed": true
   },
   "outputs": [
    {
     "name": "stdout",
     "output_type": "stream",
     "text": [
      "5\n",
      "6\n",
      "7\n",
      "8\n",
      "9\n"
     ]
    }
   ],
   "source": [
    "for i in range(5,10): #попробуйте заменить значения в скобках на (5,10) и на (5,15,2)\n",
    "    print(i)"
   ]
  },
  {
   "cell_type": "markdown",
   "metadata": {},
   "source": [
    "В коде ниже, переменные **type_morojenka, price** и другие, находятся в теле цикла, потому что нам каждый раз нужно присваивать им новые значения, согласно новому индексу."
   ]
  },
  {
   "cell_type": "code",
   "execution_count": 13,
   "metadata": {},
   "outputs": [
    {
     "name": "stdout",
     "output_type": "stream",
     "text": [
      "Пломбир , Стоимость: 256 руб./шт Количество на складе 10\n",
      "Эскимо , Стоимость: 221 $/шт Количество на складе 5\n",
      "Стоимость остатков Эскимо на складе:325 руб.\n"
     ]
    }
   ],
   "source": [
    "dict = {'Мороженное':[{'Тип':'Пломбир', 'Цена':256, 'Валюта':'руб./шт', 'Склад':10},\n",
    "                      {'Тип':'Эскимо', 'Цена':221, 'Склад':5, 'Валюта':'$/шт'}]}\n",
    "sklad_morojenki = dict['Мороженное']\n",
    "\n",
    "for i in range(2): #вместо 2 мы могли подставить значение len(dict['Мороженное'])\n",
    "                   #считает сколько элементов в списке или чему равна его длина\n",
    "    type_morojenka = dict['Мороженное'][i]['Тип']\n",
    "    price = dict['Мороженное'][i]['Цена']\n",
    "    cy = dict['Мороженное'][i]['Валюта']\n",
    "    value = dict['Мороженное'][i]['Склад']\n",
    "    print(type_morojenka,',','Стоимость:',price, cy,'Количество на складе',value)\n",
    "    if type_morojenka == 'Эскимо':\n",
    "        print('Стоимость остатков Эскимо на складе:' + str(value*65) +' руб.')"
   ]
  },
  {
   "cell_type": "markdown",
   "metadata": {},
   "source": [
    "**Получим информацию 2-х последних постов в сообществе.**\n",
    "Для примера я буду работать со своим пабликом http://vk.com/technopark (id = 62534510 )"
   ]
  },
  {
   "cell_type": "code",
   "execution_count": 15,
   "metadata": {
    "collapsed": true
   },
   "outputs": [
    {
     "data": {
      "text/plain": [
       "{'response': {'count': 4909,\n",
       "  'items': [{'id': 9125,\n",
       "    'from_id': -62534510,\n",
       "    'owner_id': -62534510,\n",
       "    'date': 1550332987,\n",
       "    'marked_as_ads': 0,\n",
       "    'post_type': 'post',\n",
       "    'text': 'How are you, guys?',\n",
       "    'can_delete': 1,\n",
       "    'can_pin': 1,\n",
       "    'is_pinned': 1,\n",
       "    'attachments': [{'type': 'poll',\n",
       "      'poll': {'id': 323548455,\n",
       "       'owner_id': -62534510,\n",
       "       'created': 1550332987,\n",
       "       'question': 'How are you, guys?',\n",
       "       'votes': 25,\n",
       "       'answers': [{'id': 1087999185,\n",
       "         'text': 'fine',\n",
       "         'votes': 11,\n",
       "         'rate': 44.0},\n",
       "        {'id': 1087999186, 'text': 'so-so', 'votes': 3, 'rate': 12.0},\n",
       "        {'id': 1087999187, 'text': 'fuck off', 'votes': 11, 'rate': 44.0}],\n",
       "       'anonymous': True,\n",
       "       'multiple': False,\n",
       "       'answer_ids': [],\n",
       "       'end_date': 0,\n",
       "       'closed': False,\n",
       "       'is_board': False,\n",
       "       'can_edit': True,\n",
       "       'can_vote': True,\n",
       "       'can_report': True,\n",
       "       'can_share': True,\n",
       "       'author_id': -62534510,\n",
       "       'background': {'type': 'gradient',\n",
       "        'angle': 180,\n",
       "        'color': '5c6778',\n",
       "        'points': [{'position': 0.0, 'color': '707c8c'},\n",
       "         {'position': 1.0, 'color': '4d5565'}],\n",
       "        'id': 8}}}],\n",
       "    'post_source': {'type': 'vk'},\n",
       "    'comments': {'count': 0,\n",
       "     'can_post': 1,\n",
       "     'groups_can_post': True,\n",
       "     'can_close': 1},\n",
       "    'likes': {'count': 0, 'user_likes': 0, 'can_like': 1, 'can_publish': 1},\n",
       "    'reposts': {'count': 0, 'user_reposted': 0},\n",
       "    'views': {'count': 369},\n",
       "    'is_favorite': False},\n",
       "   {'id': 9187,\n",
       "    'from_id': -62534510,\n",
       "    'owner_id': -62534510,\n",
       "    'date': 1561047258,\n",
       "    'marked_as_ads': 0,\n",
       "    'post_type': 'post',\n",
       "    'text': '',\n",
       "    'copy_history': [{'id': 21,\n",
       "      'owner_id': -183298337,\n",
       "      'from_id': -183298337,\n",
       "      'date': 1561045762,\n",
       "      'post_type': 'post',\n",
       "      'text': 'Второй артист - Роберто Счастлив, который представит свою особенную, электронную любовь к INDI.\\n\\nРоберто Счастлив - электронный инди поп проект девушки из Севастополя с проникновенными текстами и гавайской гитарой. Можно считать экспериментальным продолжением Park17 . \\n \\nЗа свою не столь долгую карьеру, она успела покорить сердца многих топовых «хипстерских» заведений, в питерской «ионотеке», в московских «садах» и в симферопольской «консерватории» и так далее...',\n",
       "      'attachments': [{'type': 'photo',\n",
       "        'photo': {'id': 456239045,\n",
       "         'album_id': -7,\n",
       "         'owner_id': -183298337,\n",
       "         'user_id': 100,\n",
       "         'sizes': [{'type': 'm',\n",
       "           'url': 'https://pp.userapi.com/c852136/v852136137/15648c/1viDLkSmfeg.jpg',\n",
       "           'width': 130,\n",
       "           'height': 87},\n",
       "          {'type': 'o',\n",
       "           'url': 'https://pp.userapi.com/c852136/v852136137/156490/6njrEwYTP2w.jpg',\n",
       "           'width': 130,\n",
       "           'height': 87},\n",
       "          {'type': 'p',\n",
       "           'url': 'https://pp.userapi.com/c852136/v852136137/156491/WpUt59Yjcl8.jpg',\n",
       "           'width': 200,\n",
       "           'height': 133},\n",
       "          {'type': 'q',\n",
       "           'url': 'https://pp.userapi.com/c852136/v852136137/156492/BNCXAyvgyKs.jpg',\n",
       "           'width': 320,\n",
       "           'height': 213},\n",
       "          {'type': 'r',\n",
       "           'url': 'https://pp.userapi.com/c852136/v852136137/156493/nS-DGUut0Gs.jpg',\n",
       "           'width': 510,\n",
       "           'height': 340},\n",
       "          {'type': 's',\n",
       "           'url': 'https://pp.userapi.com/c852136/v852136137/15648b/CqFPzI4E03o.jpg',\n",
       "           'width': 75,\n",
       "           'height': 50},\n",
       "          {'type': 'x',\n",
       "           'url': 'https://pp.userapi.com/c852136/v852136137/15648d/T-NLwfnvgQQ.jpg',\n",
       "           'width': 604,\n",
       "           'height': 403},\n",
       "          {'type': 'y',\n",
       "           'url': 'https://pp.userapi.com/c852136/v852136137/15648e/LXIesssbGLY.jpg',\n",
       "           'width': 807,\n",
       "           'height': 538},\n",
       "          {'type': 'z',\n",
       "           'url': 'https://pp.userapi.com/c852136/v852136137/15648f/TIEYGR9Bu1U.jpg',\n",
       "           'width': 960,\n",
       "           'height': 640}],\n",
       "         'text': '',\n",
       "         'date': 1561045762,\n",
       "         'access_key': 'daf36797bdfdc64e5a'}},\n",
       "       {'type': 'audio',\n",
       "        'audio': {'id': 456242168,\n",
       "         'owner_id': 2000466565,\n",
       "         'artist': 'Роберто Счастлив',\n",
       "         'title': 'Вступление',\n",
       "         'duration': 25,\n",
       "         'date': 1561046477,\n",
       "         'url': 'https://vk.com/mp3/audio_api_unavailable.mp3',\n",
       "         'genre_id': 17,\n",
       "         'is_hq': True,\n",
       "         'track_code': '602a407cBbQHnmKbQlZ-lp_5J2CmQcvaZHb5m0NpOCVNeFWL18s-jFTTLskSCX7Tzw',\n",
       "         'is_explicit': False}}],\n",
       "      'post_source': {'type': 'vk'}}],\n",
       "    'can_delete': 1,\n",
       "    'can_pin': 1,\n",
       "    'post_source': {'type': 'api', 'platform': 'iphone'},\n",
       "    'comments': {'count': 0,\n",
       "     'can_post': 1,\n",
       "     'groups_can_post': True,\n",
       "     'can_close': 1},\n",
       "    'likes': {'count': 0, 'user_likes': 0, 'can_like': 1, 'can_publish': 1},\n",
       "    'reposts': {'count': 0, 'user_reposted': 0},\n",
       "    'views': {'count': 85},\n",
       "    'is_favorite': False}]}}"
      ]
     },
     "execution_count": 15,
     "metadata": {},
     "output_type": "execute_result"
    }
   ],
   "source": [
    "import requests\n",
    "access_token = 'f19c56cc59de71fe884aa6b08cf6680d9c75f2d323d5480cf76b1f0dc9d0aac21e8465ef46ccccbc8ec0f'\n",
    "group_id = -62534510\n",
    "r = requests.get('https://api.vk.com/method/wall.get',\n",
    "                 params={'owner_id':group_id,\n",
    "                        'count':2,\n",
    "                        'v':'5.95',\n",
    "                        'access_token':access_token\n",
    "                        })\n",
    "r.json()"
   ]
  },
  {
   "cell_type": "markdown",
   "metadata": {},
   "source": [
    "В полученном ответе мы видим много информации. Пост может включать в себя объекты - картинку, видео, документы, музыку, ссылку.\n",
    "Необходимо избавиться от части ненужной нам информации и получить:\n",
    "> * количество лайков;\n",
    "> * количество репостов;\n",
    "> * количество комментариев;\n",
    "> * дату публикации постов;\n",
    "> * сформировать всё в виде таблицы\n",
    "\n",
    "Достанем дату и время для 2-х наших постов, которые мы получили выше. Используем тот же метод, что  в задаче с мороженным."
   ]
  },
  {
   "cell_type": "code",
   "execution_count": 125,
   "metadata": {},
   "outputs": [
    {
     "data": {
      "text/plain": [
       "1550332987"
      ]
     },
     "execution_count": 125,
     "metadata": {},
     "output_type": "execute_result"
    }
   ],
   "source": [
    "import requests\n",
    "access_token = 'f19c56cc59de71fe884aa6b08cf6680d9c75f2d323d5480cf76b1f0dc9d0aac21e8465ef46ccccbc8ec0f'\n",
    "group_id = -62534510\n",
    "r = requests.get('https://api.vk.com/method/wall.get',\n",
    "                 params={'owner_id':group_id,\n",
    "                        'count':1,\n",
    "                        'v':'5.95',\n",
    "                        'access_token':access_token\n",
    "                        })\n",
    "response = r.json()\n",
    "#post_date1 = response['response']['items'][0]['date'] #выводит первую запись на стене или закреплённый пост\n",
    "#post_date2 = response['response']['items'][1]['date'] #выведит на экран вторую запись на стене\n",
    "#print(post_date1, post_date2)\n",
    "response['response']['items'][0]['date']"
   ]
  },
  {
   "cell_type": "markdown",
   "metadata": {},
   "source": [
    "Дата отображается в специальной кодировке Unix"
   ]
  },
  {
   "cell_type": "markdown",
   "metadata": {},
   "source": [
    "Как и в задаче с мороженным мы предполагаем, что у нас будут сотни и тысячи публикаций, для которых нужно будет получать информацию. Следовательно, мы не можем для каждой даты создавать переменную именно таким образом:\n",
    "```python\n",
    "    post_date1 = response['response']['items'][0]['date'] #выводит первую запись на стене или закреплённый пост\n",
    "post_date2 = response['response']['items'][1]['date'] #выведит на экран вторую запись на \n",
    "```\n",
    "значит будем использовать цикл **for**"
   ]
  },
  {
   "cell_type": "code",
   "execution_count": 117,
   "metadata": {},
   "outputs": [
    {
     "name": "stdout",
     "output_type": "stream",
     "text": [
      "Кол-во постов на стене = 4909\n",
      "Дата публикации , Ссылка , Кол-во лайков , Кол-во репостов , Кол-во комментариев\n",
      "1550332987 , https://vk.com/wall-62534510_9125 , 0 , 0 , 0\n",
      "1561047258 , https://vk.com/wall-62534510_9187 , 0 , 0 , 0\n",
      "1560888536 , https://vk.com/wall-62534510_9186 , 2 , 0 , 0\n",
      "1560872795 , https://vk.com/wall-62534510_9185 , 0 , 0 , 0\n",
      "1560373147 , https://vk.com/wall-62534510_9184 , 0 , 0 , 0\n",
      "1560331298 , https://vk.com/wall-62534510_9182 , 0 , 0 , 0\n",
      "1560169097 , https://vk.com/wall-62534510_9181 , 0 , 0 , 0\n",
      "1560098839 , https://vk.com/wall-62534510_9180 , 2 , 1 , 0\n",
      "1559928837 , https://vk.com/wall-62534510_9176 , 1 , 0 , 0\n",
      "1559925225 , https://vk.com/wall-62534510_9174 , 9 , 0 , 1\n"
     ]
    }
   ],
   "source": [
    "import requests\n",
    "access_token = 'f19c56cc59de71fe884aa6b08cf6680d9c75f2d323d5480cf76b1f0dc9d0aac21e8465ef46ccccbc8ec0f'\n",
    "group_id = 62534510\n",
    "r = requests.get('https://api.vk.com/method/wall.get',\n",
    "                 params={'owner_id':-group_id,\n",
    "                        'count':10,\n",
    "                        'v':'5.95',\n",
    "                        'access_token':access_token\n",
    "                        })\n",
    "response = r.json()\n",
    "print('Кол-во постов на стене =',response['response']['count']) #выводит 1 раз\n",
    "print('Дата публикации',',','Ссылка',',','Кол-во лайков',',','Кол-во репостов',',','Кол-во комментариев')\n",
    "\n",
    "#Создаём цикл с переменными для каждого поста:\n",
    "\n",
    "for i in range(0,10):\n",
    "    post_date = response['response']['items'][i]['date'] #дата и время публикации в Unix-формате\n",
    "    comments_count = response['response']['items'][i]['comments']['count'] #количество комментариев\n",
    "    post_id = response['response']['items'][i]['id'] #id поста в сообществе\n",
    "    gr_id = response['response']['items'][i]['from_id'] #id сообщества . В версиях API ниже 5.7 вместо поля owner_id приходит to_id.\n",
    "    likes_count = response['response']['items'][i]['likes']['count'] #количество лайков\n",
    "    repost_count = response['response']['items'][i]['reposts']['count']  #количество репостов\n",
    "    #signer_id = response['response']['items'][0]['signer_id'] #если есть подпись автора    \n",
    "    print(post_date,',','https://vk.com/wall'+str(gr_id)+'_'+str(post_id),',',likes_count,',',repost_count,',',comments_count,)"
   ]
  },
  {
   "cell_type": "markdown",
   "metadata": {},
   "source": [
    "Чтобы получить 100 постов или более нужно изменить параметр **count** и в цикле изменить **range** на то число постов, которое нужно нам."
   ]
  },
  {
   "cell_type": "markdown",
   "metadata": {},
   "source": [
    "## Домашнее задание по уроку 4\n",
    "> 1. Замените значение в цикле с (1,3) на (1, 101) - так вы получите все 100 постов\n",
    "2. Ознакомьтесь внимательно с методом  https://vk.com/dev/wall.get и разберитесь, что нужно поправить, чтобы получить посты из любого открытого профиля пользователя ВКонтакте"
   ]
  },
  {
   "cell_type": "code",
   "execution_count": null,
   "metadata": {},
   "outputs": [],
   "source": []
  }
 ],
 "metadata": {
  "kernelspec": {
   "display_name": "Python 3",
   "language": "python",
   "name": "python3"
  },
  "language_info": {
   "codemirror_mode": {
    "name": "ipython",
    "version": 3
   },
   "file_extension": ".py",
   "mimetype": "text/x-python",
   "name": "python",
   "nbconvert_exporter": "python",
   "pygments_lexer": "ipython3",
   "version": "3.7.3"
  }
 },
 "nbformat": 4,
 "nbformat_minor": 2
}
