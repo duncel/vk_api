{
 "cells": [
  {
   "cell_type": "markdown",
   "metadata": {},
   "source": [
    "## Получение token и авторизация"
   ]
  },
  {
   "cell_type": "markdown",
   "metadata": {},
   "source": [
    "Для работы с некоторыми методам ВКонтакте необходимо передавать дополнительный параметр **token** . Вот что об этом написано ВКонтакте:\n",
    "* https://vk.com/dev/authentication\n",
    "* https://vk.com/dev/auth_mobile\n",
    "\n",
    "Так как Token можно получить только через приложение, то нам это приложение нужно будет создать."
   ]
  },
  {
   "cell_type": "markdown",
   "metadata": {},
   "source": [
    "## Как создать Standalone приложение ВКонтакте\n",
    "\n",
    "Пошаговая инструкция создания приложения и получения токена\n",
    "\n",
    "1. Нужно перейти в раздел создания приложений https://vk.com/apps?act=manage . Нажать создать приложение или сразу перейти по ссылке https://vk.com/editapp?act=create\n",
    "![alt](https://api.monosnap.com/rpc/file/download?id=YXKHu26mPNrinNzbpZvP2JL56S8XF2)<br>\n",
    "\n",
    "2. Выбираем Standalone и нажимаем **подключить приложение**\n",
    "![alt](https://api.monosnap.com/rpc/file/download?id=bEKU72XrGtV3RE9btFI99WaKVoTbSn)<br>\n",
    "\n",
    "3. После нажатия по кнопке **\"Подключить приложение\"** в появившемся окне необходимо подтвердить права на приложение. Для этого есть 2 способа: через приложение ВК (недавно ввели) или через СМС (существует давно). Выбираем \"Получить код через СМС\"\n",
    "![alt](https://api.monosnap.com/rpc/file/download?id=v5Ir97uB3CYASyH8Dc13sQ6s3m7ZWl)<br>\n",
    "\n",
    "4. Нажимаем \"Получить код\"\n",
    "![alt](https://api.monosnap.com/rpc/file/download?id=cwTtSWktZz8snepoPB4CMT92I4he9S)<br>\n",
    "\n",
    "5. Вводим полученный код из СМС и нажимаем **\"Отправить код\"**\n",
    "![alt](https://api.monosnap.com/rpc/file/download?id=EDh28bt7U8P93uSp6bTCkURTB6OHxW)<br>\n",
    "\n",
    "6. Если код введён правильно, то вас перебросит на страницу вашего приложения\n",
    "![alt](https://api.monosnap.com/rpc/file/download?id=vZYOFEOSpIXH2HU3UrChYjf0SWACyt)<br>\n",
    "\n",
    "7. Нужно перейти в раздел \"Настройки\" и включить \"Open API\"\n",
    "![alt](https://api.monosnap.com/rpc/file/download?id=22amuyZaXj5D0EONmMQra8jFAEJP3a)<br>\n",
    "\n",
    "8. Добавить в данные поля для: **Адрес сайта**: http://localhost ; **Базовый домен:** localhost\n",
    "![alt](https://api.monosnap.com/rpc/file/download?id=MzHeU0nfw3hgq4OzVQAfvG2M8pqXWm)<br>\n",
    "\n",
    "9. На этом настройка нашего приложения завершается. Переходим к получению необходимых прав\n"
   ]
  },
  {
   "cell_type": "markdown",
   "metadata": {},
   "source": [
    "## Как получить права доступа приложения\n",
    "\n",
    "1. Со списком всех прав доступа можно ознакомиться здесь - https://vk.com/dev/permissions\n",
    "\n",
    "2. Для простановки лайков от имени пользователя нужны права доступа на **wall**\n",
    "![alt](https://api.monosnap.com/rpc/file/download?id=GTdoUWdtnB7PSyHDgcH49B1GbeXSoI)<br>\n",
    "\n",
    "3. Для того, чтобы предоставить права приложению на доступ нам необходимо установить приложение пользователю, под которым мы сейчас авторизованы ВКонтакте. Для этого нам потребуется сформрировать URL-адрес . Выглядит он следующим образом<br> https://oauth.vk.com/authorize?client_id=5453402&display=page&redirect_uri=http://localhost&scope=wall,offline&response_type=token&v=5.50 ,<br><br>\n",
    "Где \n",
    "**client_id=5453402** - это ID нашего standalone-приложения . Подставляйте свой ID приложения и работайте.\n",
    "**scope=wall,offline** - права, которые нам необходимы<br><br>\n",
    "\n",
    "4. Если вы сделали всё правильно, то у вас появится окно запроса от ВКонтакте с перечислением тех прав, которые вы запросили. Нажимаем **\"Разрешить\"**\n",
    "![alt](https://api.monosnap.com/rpc/file/download?id=Q1IsTUfzt4rPsaaIuXyAPYckqp6ms0)<br>\n",
    "\n",
    "5. Не пугайтесь \"Белого окна\". Это как раз то, что нам нужно. Скопируйте из адресной строки значение после **access_token=** до символа **&**\n",
    "![alt](https://api.monosnap.com/rpc/file/download?id=kJD6JNnsMvtCfGbEHx7mTeFaBWwae5)<br>\n",
    "\n",
    "6. Это и есть Token, который нам нужен. Сохраните его."
   ]
  },
  {
   "cell_type": "code",
   "execution_count": null,
   "metadata": {},
   "outputs": [],
   "source": []
  }
 ],
 "metadata": {
  "kernelspec": {
   "display_name": "Python 3",
   "language": "python",
   "name": "python3"
  },
  "language_info": {
   "codemirror_mode": {
    "name": "ipython",
    "version": 3
   },
   "file_extension": ".py",
   "mimetype": "text/x-python",
   "name": "python",
   "nbconvert_exporter": "python",
   "pygments_lexer": "ipython3",
   "version": "3.7.3"
  }
 },
 "nbformat": 4,
 "nbformat_minor": 2
}
